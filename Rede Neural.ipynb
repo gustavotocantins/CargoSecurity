{
 "cells": [
  {
   "cell_type": "code",
   "execution_count": 1,
   "metadata": {},
   "outputs": [],
   "source": [
    "from tensorflow.keras.models import Sequential\n",
    "from tensorflow.keras.layers import Conv2D, MaxPooling2D, Dense, Flatten\n",
    "from tensorflow import keras\n",
    "import tensorflow as tf\n",
    "import keras_tuner as kt\n",
    "import numpy as np\n",
    "import matplotlib.pyplot as plt\n",
    "import glob, os\n",
    "import re\n",
    "from PIL import Image\n",
    "import pickle \n",
    "import random\n",
    "from tensorflow.keras.layers import LSTM, Dense, Dropout"
   ]
  },
  {
   "cell_type": "code",
   "execution_count": 2,
   "metadata": {},
   "outputs": [],
   "source": [
    "def formatar(path, maxsize):\n",
    "        img = Image.open(path).convert('L')   \n",
    "        WIDTH, HEIGHT = img.size\n",
    "        if WIDTH != HEIGHT:\n",
    "                m_min_d = min(WIDTH, HEIGHT)\n",
    "                img = img.crop((0, 0, m_min_d, m_min_d))\n",
    "        img.thumbnail(maxsize, Image.LANCZOS)\n",
    "        return np.asarray(img)"
   ]
  },
  {
   "cell_type": "code",
   "execution_count": 3,
   "metadata": {},
   "outputs": [],
   "source": [
    "def carregar(path_dir, maxsize):\n",
    "        images = []\n",
    "        labels = []\n",
    "        os.chdir(path_dir)\n",
    "        for file in glob.glob(\"*.png\"):\n",
    "                img = formatar(file, maxsize)\n",
    "                if re.match('Leve.*', file):\n",
    "                        images.append(img)\n",
    "                        labels.append(0)\n",
    "\n",
    "                elif re.match('Carregado.*', file):\n",
    "                        images.append(img)\n",
    "                        labels.append(1)\n",
    "\n",
    "                elif re.match('sobrecarregado.*', file):\n",
    "                        images.append(img)\n",
    "                        labels.append(2)\n",
    "        return (np.asarray(images), np.asarray(labels))"
   ]
  },
  {
   "cell_type": "code",
   "execution_count": 4,
   "metadata": {},
   "outputs": [],
   "source": [
    "maxsize = 250, 250\n",
    "def display_images(images, labels):\n",
    "        plt.figure(figsize=(80, 80))\n",
    "        grid_size = min(55, len(images))\n",
    "        for i in range(grid_size):\n",
    "                plt.subplot(11, 5, i+1)\n",
    "                plt.xticks([])\n",
    "                plt.yticks([])\n",
    "                plt.grid(False)\n",
    "                plt.imshow(images[i], cmap=plt.cm.binary)\n",
    "                plt.xlabel(class_names[labels[i]])"
   ]
  },
  {
   "cell_type": "code",
   "execution_count": 5,
   "metadata": {},
   "outputs": [],
   "source": [
    "(train_images, train_labels) = carregar(r'C:\\Users\\gusta\\OneDrive\\Documentos\\GitHub\\CargoSecurity\\treino', maxsize)\n",
    "(test_images, test_labels) = carregar(r'C:\\Users\\gusta\\OneDrive\\Documentos\\GitHub\\CargoSecurity\\teste', maxsize)\n",
    "\n",
    "train_images = train_images / 255\n",
    "test_images = test_images / 255"
   ]
  },
  {
   "cell_type": "code",
   "execution_count": 6,
   "metadata": {},
   "outputs": [],
   "source": [
    "indices = list(range(len(train_labels)))\n",
    "\n",
    "# Embaralhe os índices\n",
    "np.random.shuffle(indices)\n",
    "\n",
    "# Use os índices embaralhados para embaralhar as duas listas\n",
    "train_images = train_images[indices]\n",
    "train_labels = train_labels[indices]\n",
    "\n",
    "class_names = [ 'leve', 'carregado', 'sobrecarregado']"
   ]
  },
  {
   "cell_type": "code",
   "execution_count": 20,
   "metadata": {},
   "outputs": [],
   "source": [
    "model = Sequential() # 28x28\n",
    "model.add(Conv2D(32, (3,3), activation='relu',input_shape=(250,250,1) )) #20x24x24\n",
    "model.add(MaxPooling2D(pool_size=(2,2))) \n",
    "\n",
    "model.add(Conv2D(64, kernel_size=(3,3), activation='relu')) #40x8x8\n",
    "model.add(MaxPooling2D(pool_size=(2,2))) \n",
    "\n",
    "model.add(Conv2D(128, kernel_size=(3,3), activation='relu')) #40x8x8\n",
    "model.add(MaxPooling2D(pool_size=(2,2))) \n",
    "\n",
    "model.add(Flatten())\n",
    "model.add(Dense(192, activation='relu'))\n",
    "model.add(Dense(3, activation='softmax'))\n"
   ]
  },
  {
   "cell_type": "code",
   "execution_count": null,
   "metadata": {},
   "outputs": [],
   "source": [
    "model.compile(optimizer=keras.optimizers.Adam(0.001),\n",
    "        loss='sparse_categorical_crossentropy',\n",
    "        metrics=['accuracy'])\n",
    "\n",
    "model.fit(train_images, train_labels, epochs=150, batch_size=43)"
   ]
  },
  {
   "cell_type": "code",
   "execution_count": 12,
   "metadata": {},
   "outputs": [
    {
     "name": "stdout",
     "output_type": "stream",
     "text": [
      "\n",
      "Search: Running Trial #1\n",
      "\n",
      "Value             |Best Value So Far |Hyperparameter\n",
      "64                |64                |units_1\n",
      "288               |288               |units_2\n",
      "288               |288               |units_3\n",
      "256               |256               |units_4\n",
      "0.4               |0.4               |dropout_1\n",
      "0                 |0                 |dropout_2\n",
      "0.01              |0.01              |learning_rate\n",
      "2                 |2                 |tuner/epochs\n",
      "0                 |0                 |tuner/initial_epoch\n",
      "9                 |9                 |tuner/bracket\n",
      "0                 |0                 |tuner/round\n",
      "\n"
     ]
    },
    {
     "ename": "KeyboardInterrupt",
     "evalue": "",
     "output_type": "error",
     "traceback": [
      "\u001b[1;31m---------------------------------------------------------------------------\u001b[0m",
      "\u001b[1;31mKeyboardInterrupt\u001b[0m                         Traceback (most recent call last)",
      "\u001b[1;32mc:\\Users\\gusta\\OneDrive\\Documentos\\GitHub\\CargoSecurity\\Rede Neural.ipynb Cell 9\u001b[0m line \u001b[0;36m3\n\u001b[0;32m     <a href='vscode-notebook-cell:/c%3A/Users/gusta/OneDrive/Documentos/GitHub/CargoSecurity/Rede%20Neural.ipynb#X11sZmlsZQ%3D%3D?line=28'>29</a>\u001b[0m tuner \u001b[39m=\u001b[39m kt\u001b[39m.\u001b[39mHyperband(model_builder,\n\u001b[0;32m     <a href='vscode-notebook-cell:/c%3A/Users/gusta/OneDrive/Documentos/GitHub/CargoSecurity/Rede%20Neural.ipynb#X11sZmlsZQ%3D%3D?line=29'>30</a>\u001b[0m                      objective\u001b[39m=\u001b[39m\u001b[39m'\u001b[39m\u001b[39mval_accuracy\u001b[39m\u001b[39m'\u001b[39m,\n\u001b[0;32m     <a href='vscode-notebook-cell:/c%3A/Users/gusta/OneDrive/Documentos/GitHub/CargoSecurity/Rede%20Neural.ipynb#X11sZmlsZQ%3D%3D?line=30'>31</a>\u001b[0m                      max_epochs\u001b[39m=\u001b[39m\u001b[39m1000\u001b[39m,\n\u001b[0;32m     <a href='vscode-notebook-cell:/c%3A/Users/gusta/OneDrive/Documentos/GitHub/CargoSecurity/Rede%20Neural.ipynb#X11sZmlsZQ%3D%3D?line=31'>32</a>\u001b[0m                      factor\u001b[39m=\u001b[39m\u001b[39m2\u001b[39m,\n\u001b[0;32m     <a href='vscode-notebook-cell:/c%3A/Users/gusta/OneDrive/Documentos/GitHub/CargoSecurity/Rede%20Neural.ipynb#X11sZmlsZQ%3D%3D?line=32'>33</a>\u001b[0m                      directory\u001b[39m=\u001b[39m\u001b[39m'\u001b[39m\u001b[39mmy_dir\u001b[39m\u001b[39m'\u001b[39m,\n\u001b[0;32m     <a href='vscode-notebook-cell:/c%3A/Users/gusta/OneDrive/Documentos/GitHub/CargoSecurity/Rede%20Neural.ipynb#X11sZmlsZQ%3D%3D?line=33'>34</a>\u001b[0m                      project_name\u001b[39m=\u001b[39m\u001b[39m'\u001b[39m\u001b[39mintro_to_kt\u001b[39m\u001b[39m'\u001b[39m)\n\u001b[0;32m     <a href='vscode-notebook-cell:/c%3A/Users/gusta/OneDrive/Documentos/GitHub/CargoSecurity/Rede%20Neural.ipynb#X11sZmlsZQ%3D%3D?line=35'>36</a>\u001b[0m stop_early \u001b[39m=\u001b[39m tf\u001b[39m.\u001b[39mkeras\u001b[39m.\u001b[39mcallbacks\u001b[39m.\u001b[39mEarlyStopping(monitor\u001b[39m=\u001b[39m\u001b[39m'\u001b[39m\u001b[39mval_loss\u001b[39m\u001b[39m'\u001b[39m, patience\u001b[39m=\u001b[39m\u001b[39m5\u001b[39m)\n\u001b[1;32m---> <a href='vscode-notebook-cell:/c%3A/Users/gusta/OneDrive/Documentos/GitHub/CargoSecurity/Rede%20Neural.ipynb#X11sZmlsZQ%3D%3D?line=37'>38</a>\u001b[0m tuner\u001b[39m.\u001b[39;49msearch(train_images, train_labels, epochs\u001b[39m=\u001b[39;49m\u001b[39m1000\u001b[39;49m, validation_split\u001b[39m=\u001b[39;49m\u001b[39m0.2\u001b[39;49m, callbacks\u001b[39m=\u001b[39;49m[stop_early])\n\u001b[0;32m     <a href='vscode-notebook-cell:/c%3A/Users/gusta/OneDrive/Documentos/GitHub/CargoSecurity/Rede%20Neural.ipynb#X11sZmlsZQ%3D%3D?line=39'>40</a>\u001b[0m \u001b[39m# Get the optimal hyperparameters\u001b[39;00m\n\u001b[0;32m     <a href='vscode-notebook-cell:/c%3A/Users/gusta/OneDrive/Documentos/GitHub/CargoSecurity/Rede%20Neural.ipynb#X11sZmlsZQ%3D%3D?line=40'>41</a>\u001b[0m best_hps\u001b[39m=\u001b[39mtuner\u001b[39m.\u001b[39mget_best_hyperparameters(num_trials\u001b[39m=\u001b[39m\u001b[39m1\u001b[39m)[\u001b[39m0\u001b[39m]\n",
      "File \u001b[1;32mc:\\Users\\gusta\\AppData\\Local\\Programs\\Python\\Python38\\lib\\site-packages\\keras_tuner\\engine\\base_tuner.py:230\u001b[0m, in \u001b[0;36mBaseTuner.search\u001b[1;34m(self, *fit_args, **fit_kwargs)\u001b[0m\n\u001b[0;32m    227\u001b[0m         \u001b[39mcontinue\u001b[39;00m\n\u001b[0;32m    229\u001b[0m     \u001b[39mself\u001b[39m\u001b[39m.\u001b[39mon_trial_begin(trial)\n\u001b[1;32m--> 230\u001b[0m     \u001b[39mself\u001b[39;49m\u001b[39m.\u001b[39;49m_try_run_and_update_trial(trial, \u001b[39m*\u001b[39;49mfit_args, \u001b[39m*\u001b[39;49m\u001b[39m*\u001b[39;49mfit_kwargs)\n\u001b[0;32m    231\u001b[0m     \u001b[39mself\u001b[39m\u001b[39m.\u001b[39mon_trial_end(trial)\n\u001b[0;32m    232\u001b[0m \u001b[39mself\u001b[39m\u001b[39m.\u001b[39mon_search_end()\n",
      "File \u001b[1;32mc:\\Users\\gusta\\AppData\\Local\\Programs\\Python\\Python38\\lib\\site-packages\\keras_tuner\\engine\\base_tuner.py:270\u001b[0m, in \u001b[0;36mBaseTuner._try_run_and_update_trial\u001b[1;34m(self, trial, *fit_args, **fit_kwargs)\u001b[0m\n\u001b[0;32m    268\u001b[0m \u001b[39mdef\u001b[39;00m \u001b[39m_try_run_and_update_trial\u001b[39m(\u001b[39mself\u001b[39m, trial, \u001b[39m*\u001b[39mfit_args, \u001b[39m*\u001b[39m\u001b[39m*\u001b[39mfit_kwargs):\n\u001b[0;32m    269\u001b[0m     \u001b[39mtry\u001b[39;00m:\n\u001b[1;32m--> 270\u001b[0m         \u001b[39mself\u001b[39;49m\u001b[39m.\u001b[39;49m_run_and_update_trial(trial, \u001b[39m*\u001b[39;49mfit_args, \u001b[39m*\u001b[39;49m\u001b[39m*\u001b[39;49mfit_kwargs)\n\u001b[0;32m    271\u001b[0m         trial\u001b[39m.\u001b[39mstatus \u001b[39m=\u001b[39m trial_module\u001b[39m.\u001b[39mTrialStatus\u001b[39m.\u001b[39mCOMPLETED\n\u001b[0;32m    272\u001b[0m         \u001b[39mreturn\u001b[39;00m\n",
      "File \u001b[1;32mc:\\Users\\gusta\\AppData\\Local\\Programs\\Python\\Python38\\lib\\site-packages\\keras_tuner\\engine\\base_tuner.py:235\u001b[0m, in \u001b[0;36mBaseTuner._run_and_update_trial\u001b[1;34m(self, trial, *fit_args, **fit_kwargs)\u001b[0m\n\u001b[0;32m    234\u001b[0m \u001b[39mdef\u001b[39;00m \u001b[39m_run_and_update_trial\u001b[39m(\u001b[39mself\u001b[39m, trial, \u001b[39m*\u001b[39mfit_args, \u001b[39m*\u001b[39m\u001b[39m*\u001b[39mfit_kwargs):\n\u001b[1;32m--> 235\u001b[0m     results \u001b[39m=\u001b[39m \u001b[39mself\u001b[39;49m\u001b[39m.\u001b[39;49mrun_trial(trial, \u001b[39m*\u001b[39;49mfit_args, \u001b[39m*\u001b[39;49m\u001b[39m*\u001b[39;49mfit_kwargs)\n\u001b[0;32m    236\u001b[0m     \u001b[39mif\u001b[39;00m \u001b[39mself\u001b[39m\u001b[39m.\u001b[39moracle\u001b[39m.\u001b[39mget_trial(trial\u001b[39m.\u001b[39mtrial_id)\u001b[39m.\u001b[39mmetrics\u001b[39m.\u001b[39mexists(\n\u001b[0;32m    237\u001b[0m         \u001b[39mself\u001b[39m\u001b[39m.\u001b[39moracle\u001b[39m.\u001b[39mobjective\u001b[39m.\u001b[39mname\n\u001b[0;32m    238\u001b[0m     ):\n\u001b[0;32m    239\u001b[0m         \u001b[39m# The oracle is updated by calling `self.oracle.update_trial()` in\u001b[39;00m\n\u001b[0;32m    240\u001b[0m         \u001b[39m# `Tuner.run_trial()`. For backward compatibility, we support this\u001b[39;00m\n\u001b[0;32m    241\u001b[0m         \u001b[39m# use case. No further action needed in this case.\u001b[39;00m\n\u001b[0;32m    242\u001b[0m         warnings\u001b[39m.\u001b[39mwarn(\n\u001b[0;32m    243\u001b[0m             \u001b[39m\"\u001b[39m\u001b[39mThe use case of calling \u001b[39m\u001b[39m\"\u001b[39m\n\u001b[0;32m    244\u001b[0m             \u001b[39m\"\u001b[39m\u001b[39m`self.oracle.update_trial(trial_id, metrics)` \u001b[39m\u001b[39m\"\u001b[39m\n\u001b[1;32m   (...)\u001b[0m\n\u001b[0;32m    250\u001b[0m             stacklevel\u001b[39m=\u001b[39m\u001b[39m2\u001b[39m,\n\u001b[0;32m    251\u001b[0m         )\n",
      "File \u001b[1;32mc:\\Users\\gusta\\AppData\\Local\\Programs\\Python\\Python38\\lib\\site-packages\\keras_tuner\\tuners\\hyperband.py:425\u001b[0m, in \u001b[0;36mHyperband.run_trial\u001b[1;34m(self, trial, *fit_args, **fit_kwargs)\u001b[0m\n\u001b[0;32m    423\u001b[0m     fit_kwargs[\u001b[39m\"\u001b[39m\u001b[39mepochs\u001b[39m\u001b[39m\"\u001b[39m] \u001b[39m=\u001b[39m hp\u001b[39m.\u001b[39mvalues[\u001b[39m\"\u001b[39m\u001b[39mtuner/epochs\u001b[39m\u001b[39m\"\u001b[39m]\n\u001b[0;32m    424\u001b[0m     fit_kwargs[\u001b[39m\"\u001b[39m\u001b[39minitial_epoch\u001b[39m\u001b[39m\"\u001b[39m] \u001b[39m=\u001b[39m hp\u001b[39m.\u001b[39mvalues[\u001b[39m\"\u001b[39m\u001b[39mtuner/initial_epoch\u001b[39m\u001b[39m\"\u001b[39m]\n\u001b[1;32m--> 425\u001b[0m \u001b[39mreturn\u001b[39;00m \u001b[39msuper\u001b[39;49m()\u001b[39m.\u001b[39;49mrun_trial(trial, \u001b[39m*\u001b[39;49mfit_args, \u001b[39m*\u001b[39;49m\u001b[39m*\u001b[39;49mfit_kwargs)\n",
      "File \u001b[1;32mc:\\Users\\gusta\\AppData\\Local\\Programs\\Python\\Python38\\lib\\site-packages\\keras_tuner\\engine\\tuner.py:287\u001b[0m, in \u001b[0;36mTuner.run_trial\u001b[1;34m(self, trial, *args, **kwargs)\u001b[0m\n\u001b[0;32m    285\u001b[0m     callbacks\u001b[39m.\u001b[39mappend(model_checkpoint)\n\u001b[0;32m    286\u001b[0m     copied_kwargs[\u001b[39m\"\u001b[39m\u001b[39mcallbacks\u001b[39m\u001b[39m\"\u001b[39m] \u001b[39m=\u001b[39m callbacks\n\u001b[1;32m--> 287\u001b[0m     obj_value \u001b[39m=\u001b[39m \u001b[39mself\u001b[39;49m\u001b[39m.\u001b[39;49m_build_and_fit_model(trial, \u001b[39m*\u001b[39;49margs, \u001b[39m*\u001b[39;49m\u001b[39m*\u001b[39;49mcopied_kwargs)\n\u001b[0;32m    289\u001b[0m     histories\u001b[39m.\u001b[39mappend(obj_value)\n\u001b[0;32m    290\u001b[0m \u001b[39mreturn\u001b[39;00m histories\n",
      "File \u001b[1;32mc:\\Users\\gusta\\AppData\\Local\\Programs\\Python\\Python38\\lib\\site-packages\\keras_tuner\\engine\\tuner.py:214\u001b[0m, in \u001b[0;36mTuner._build_and_fit_model\u001b[1;34m(self, trial, *args, **kwargs)\u001b[0m\n\u001b[0;32m    212\u001b[0m hp \u001b[39m=\u001b[39m trial\u001b[39m.\u001b[39mhyperparameters\n\u001b[0;32m    213\u001b[0m model \u001b[39m=\u001b[39m \u001b[39mself\u001b[39m\u001b[39m.\u001b[39m_try_build(hp)\n\u001b[1;32m--> 214\u001b[0m results \u001b[39m=\u001b[39m \u001b[39mself\u001b[39;49m\u001b[39m.\u001b[39;49mhypermodel\u001b[39m.\u001b[39;49mfit(hp, model, \u001b[39m*\u001b[39;49margs, \u001b[39m*\u001b[39;49m\u001b[39m*\u001b[39;49mkwargs)\n\u001b[0;32m    215\u001b[0m tuner_utils\u001b[39m.\u001b[39mvalidate_trial_results(\n\u001b[0;32m    216\u001b[0m     results, \u001b[39mself\u001b[39m\u001b[39m.\u001b[39moracle\u001b[39m.\u001b[39mobjective, \u001b[39m\"\u001b[39m\u001b[39mHyperModel.fit()\u001b[39m\u001b[39m\"\u001b[39m\n\u001b[0;32m    217\u001b[0m )\n\u001b[0;32m    218\u001b[0m \u001b[39mreturn\u001b[39;00m results\n",
      "File \u001b[1;32mc:\\Users\\gusta\\AppData\\Local\\Programs\\Python\\Python38\\lib\\site-packages\\keras_tuner\\engine\\hypermodel.py:144\u001b[0m, in \u001b[0;36mHyperModel.fit\u001b[1;34m(self, hp, model, *args, **kwargs)\u001b[0m\n\u001b[0;32m    120\u001b[0m \u001b[39mdef\u001b[39;00m \u001b[39mfit\u001b[39m(\u001b[39mself\u001b[39m, hp, model, \u001b[39m*\u001b[39margs, \u001b[39m*\u001b[39m\u001b[39m*\u001b[39mkwargs):\n\u001b[0;32m    121\u001b[0m \u001b[39m    \u001b[39m\u001b[39m\"\"\"Train the model.\u001b[39;00m\n\u001b[0;32m    122\u001b[0m \n\u001b[0;32m    123\u001b[0m \u001b[39m    Args:\u001b[39;00m\n\u001b[1;32m   (...)\u001b[0m\n\u001b[0;32m    142\u001b[0m \u001b[39m        If return a float, it should be the `objective` value.\u001b[39;00m\n\u001b[0;32m    143\u001b[0m \u001b[39m    \"\"\"\u001b[39;00m\n\u001b[1;32m--> 144\u001b[0m     \u001b[39mreturn\u001b[39;00m model\u001b[39m.\u001b[39;49mfit(\u001b[39m*\u001b[39;49margs, \u001b[39m*\u001b[39;49m\u001b[39m*\u001b[39;49mkwargs)\n",
      "File \u001b[1;32mc:\\Users\\gusta\\AppData\\Local\\Programs\\Python\\Python38\\lib\\site-packages\\keras\\utils\\traceback_utils.py:65\u001b[0m, in \u001b[0;36mfilter_traceback.<locals>.error_handler\u001b[1;34m(*args, **kwargs)\u001b[0m\n\u001b[0;32m     63\u001b[0m filtered_tb \u001b[39m=\u001b[39m \u001b[39mNone\u001b[39;00m\n\u001b[0;32m     64\u001b[0m \u001b[39mtry\u001b[39;00m:\n\u001b[1;32m---> 65\u001b[0m     \u001b[39mreturn\u001b[39;00m fn(\u001b[39m*\u001b[39;49margs, \u001b[39m*\u001b[39;49m\u001b[39m*\u001b[39;49mkwargs)\n\u001b[0;32m     66\u001b[0m \u001b[39mexcept\u001b[39;00m \u001b[39mException\u001b[39;00m \u001b[39mas\u001b[39;00m e:\n\u001b[0;32m     67\u001b[0m     filtered_tb \u001b[39m=\u001b[39m _process_traceback_frames(e\u001b[39m.\u001b[39m__traceback__)\n",
      "File \u001b[1;32mc:\\Users\\gusta\\AppData\\Local\\Programs\\Python\\Python38\\lib\\site-packages\\keras\\engine\\training.py:1672\u001b[0m, in \u001b[0;36mModel.fit\u001b[1;34m(self, x, y, batch_size, epochs, verbose, callbacks, validation_split, validation_data, shuffle, class_weight, sample_weight, initial_epoch, steps_per_epoch, validation_steps, validation_batch_size, validation_freq, max_queue_size, workers, use_multiprocessing)\u001b[0m\n\u001b[0;32m   1665\u001b[0m (\n\u001b[0;32m   1666\u001b[0m     data_handler\u001b[39m.\u001b[39m_initial_epoch,\n\u001b[0;32m   1667\u001b[0m     data_handler\u001b[39m.\u001b[39m_initial_step,\n\u001b[0;32m   1668\u001b[0m ) \u001b[39m=\u001b[39m \u001b[39mself\u001b[39m\u001b[39m.\u001b[39m_maybe_load_initial_counters_from_ckpt(\n\u001b[0;32m   1669\u001b[0m     steps_per_epoch_inferred, initial_epoch\n\u001b[0;32m   1670\u001b[0m )\n\u001b[0;32m   1671\u001b[0m logs \u001b[39m=\u001b[39m \u001b[39mNone\u001b[39;00m\n\u001b[1;32m-> 1672\u001b[0m \u001b[39mfor\u001b[39;00m epoch, iterator \u001b[39min\u001b[39;00m data_handler\u001b[39m.\u001b[39menumerate_epochs():\n\u001b[0;32m   1673\u001b[0m     \u001b[39mself\u001b[39m\u001b[39m.\u001b[39mreset_metrics()\n\u001b[0;32m   1674\u001b[0m     callbacks\u001b[39m.\u001b[39mon_epoch_begin(epoch)\n",
      "File \u001b[1;32mc:\\Users\\gusta\\AppData\\Local\\Programs\\Python\\Python38\\lib\\site-packages\\keras\\engine\\data_adapter.py:1305\u001b[0m, in \u001b[0;36mDataHandler.enumerate_epochs\u001b[1;34m(self)\u001b[0m\n\u001b[0;32m   1303\u001b[0m \u001b[39m\u001b[39m\u001b[39m\"\"\"Yields `(epoch, tf.data.Iterator)`.\"\"\"\u001b[39;00m\n\u001b[0;32m   1304\u001b[0m \u001b[39mwith\u001b[39;00m \u001b[39mself\u001b[39m\u001b[39m.\u001b[39m_truncate_execution_to_epoch():\n\u001b[1;32m-> 1305\u001b[0m     data_iterator \u001b[39m=\u001b[39m \u001b[39miter\u001b[39;49m(\u001b[39mself\u001b[39;49m\u001b[39m.\u001b[39;49m_dataset)\n\u001b[0;32m   1306\u001b[0m     \u001b[39mfor\u001b[39;00m epoch \u001b[39min\u001b[39;00m \u001b[39mrange\u001b[39m(\u001b[39mself\u001b[39m\u001b[39m.\u001b[39m_initial_epoch, \u001b[39mself\u001b[39m\u001b[39m.\u001b[39m_epochs):\n\u001b[0;32m   1307\u001b[0m         \u001b[39mif\u001b[39;00m \u001b[39mself\u001b[39m\u001b[39m.\u001b[39m_insufficient_data:  \u001b[39m# Set by `catch_stop_iteration`.\u001b[39;00m\n",
      "File \u001b[1;32mc:\\Users\\gusta\\AppData\\Local\\Programs\\Python\\Python38\\lib\\site-packages\\tensorflow\\python\\data\\ops\\dataset_ops.py:505\u001b[0m, in \u001b[0;36mDatasetV2.__iter__\u001b[1;34m(self)\u001b[0m\n\u001b[0;32m    503\u001b[0m \u001b[39mif\u001b[39;00m context\u001b[39m.\u001b[39mexecuting_eagerly() \u001b[39mor\u001b[39;00m ops\u001b[39m.\u001b[39minside_function():\n\u001b[0;32m    504\u001b[0m   \u001b[39mwith\u001b[39;00m ops\u001b[39m.\u001b[39mcolocate_with(\u001b[39mself\u001b[39m\u001b[39m.\u001b[39m_variant_tensor):\n\u001b[1;32m--> 505\u001b[0m     \u001b[39mreturn\u001b[39;00m iterator_ops\u001b[39m.\u001b[39;49mOwnedIterator(\u001b[39mself\u001b[39;49m)\n\u001b[0;32m    506\u001b[0m \u001b[39melse\u001b[39;00m:\n\u001b[0;32m    507\u001b[0m   \u001b[39mraise\u001b[39;00m \u001b[39mRuntimeError\u001b[39;00m(\u001b[39m\"\u001b[39m\u001b[39m`tf.data.Dataset` only supports Python-style \u001b[39m\u001b[39m\"\u001b[39m\n\u001b[0;32m    508\u001b[0m                      \u001b[39m\"\u001b[39m\u001b[39miteration in eager mode or within tf.function.\u001b[39m\u001b[39m\"\u001b[39m)\n",
      "File \u001b[1;32mc:\\Users\\gusta\\AppData\\Local\\Programs\\Python\\Python38\\lib\\site-packages\\tensorflow\\python\\data\\ops\\iterator_ops.py:713\u001b[0m, in \u001b[0;36mOwnedIterator.__init__\u001b[1;34m(self, dataset, components, element_spec)\u001b[0m\n\u001b[0;32m    709\u001b[0m   \u001b[39mif\u001b[39;00m (components \u001b[39mis\u001b[39;00m \u001b[39mnot\u001b[39;00m \u001b[39mNone\u001b[39;00m \u001b[39mor\u001b[39;00m element_spec \u001b[39mis\u001b[39;00m \u001b[39mnot\u001b[39;00m \u001b[39mNone\u001b[39;00m):\n\u001b[0;32m    710\u001b[0m     \u001b[39mraise\u001b[39;00m \u001b[39mValueError\u001b[39;00m(\n\u001b[0;32m    711\u001b[0m         \u001b[39m\"\u001b[39m\u001b[39mWhen `dataset` is provided, `element_spec` and `components` must \u001b[39m\u001b[39m\"\u001b[39m\n\u001b[0;32m    712\u001b[0m         \u001b[39m\"\u001b[39m\u001b[39mnot be specified.\u001b[39m\u001b[39m\"\u001b[39m)\n\u001b[1;32m--> 713\u001b[0m   \u001b[39mself\u001b[39;49m\u001b[39m.\u001b[39;49m_create_iterator(dataset)\n\u001b[0;32m    715\u001b[0m \u001b[39mself\u001b[39m\u001b[39m.\u001b[39m_get_next_call_count \u001b[39m=\u001b[39m \u001b[39m0\u001b[39m\n",
      "File \u001b[1;32mc:\\Users\\gusta\\AppData\\Local\\Programs\\Python\\Python38\\lib\\site-packages\\tensorflow\\python\\data\\ops\\iterator_ops.py:752\u001b[0m, in \u001b[0;36mOwnedIterator._create_iterator\u001b[1;34m(self, dataset)\u001b[0m\n\u001b[0;32m    749\u001b[0m   \u001b[39massert\u001b[39;00m \u001b[39mlen\u001b[39m(fulltype\u001b[39m.\u001b[39margs[\u001b[39m0\u001b[39m]\u001b[39m.\u001b[39margs[\u001b[39m0\u001b[39m]\u001b[39m.\u001b[39margs) \u001b[39m==\u001b[39m \u001b[39mlen\u001b[39m(\n\u001b[0;32m    750\u001b[0m       \u001b[39mself\u001b[39m\u001b[39m.\u001b[39m_flat_output_types)\n\u001b[0;32m    751\u001b[0m   \u001b[39mself\u001b[39m\u001b[39m.\u001b[39m_iterator_resource\u001b[39m.\u001b[39mop\u001b[39m.\u001b[39mexperimental_set_type(fulltype)\n\u001b[1;32m--> 752\u001b[0m gen_dataset_ops\u001b[39m.\u001b[39;49mmake_iterator(ds_variant, \u001b[39mself\u001b[39;49m\u001b[39m.\u001b[39;49m_iterator_resource)\n",
      "File \u001b[1;32mc:\\Users\\gusta\\AppData\\Local\\Programs\\Python\\Python38\\lib\\site-packages\\tensorflow\\python\\ops\\gen_dataset_ops.py:3439\u001b[0m, in \u001b[0;36mmake_iterator\u001b[1;34m(dataset, iterator, name)\u001b[0m\n\u001b[0;32m   3437\u001b[0m \u001b[39mif\u001b[39;00m tld\u001b[39m.\u001b[39mis_eager:\n\u001b[0;32m   3438\u001b[0m   \u001b[39mtry\u001b[39;00m:\n\u001b[1;32m-> 3439\u001b[0m     _result \u001b[39m=\u001b[39m pywrap_tfe\u001b[39m.\u001b[39;49mTFE_Py_FastPathExecute(\n\u001b[0;32m   3440\u001b[0m       _ctx, \u001b[39m\"\u001b[39;49m\u001b[39mMakeIterator\u001b[39;49m\u001b[39m\"\u001b[39;49m, name, dataset, iterator)\n\u001b[0;32m   3441\u001b[0m     \u001b[39mreturn\u001b[39;00m _result\n\u001b[0;32m   3442\u001b[0m   \u001b[39mexcept\u001b[39;00m _core\u001b[39m.\u001b[39m_NotOkStatusException \u001b[39mas\u001b[39;00m e:\n",
      "\u001b[1;31mKeyboardInterrupt\u001b[0m: "
     ]
    }
   ],
   "source": [
    "def model_builder(hp):\n",
    "  neuro1 = hp.Int('units_1', min_value=32, max_value=512, step=32)\n",
    "  neuro2 = hp.Int('units_2', min_value=32, max_value=512, step=32)\n",
    "  neuro3 = hp.Int('units_3', min_value=32, max_value=512, step=32)\n",
    "  neuro4 = hp.Int('units_4', min_value=32, max_value=512, step=32)\n",
    "  dropout1 = hp.Float('dropout_1', min_value=0.0, max_value=0.5, step=0.1)\n",
    "  dropout2 = hp.Float('dropout_2', min_value=0.0, max_value=0.5, step=0.1)\n",
    "  model = Sequential() # 28x28\n",
    "  model.add(Conv2D(filters=neuro1,kernel_size=(3,3), activation='relu',input_shape=(250,250,1))) #20x24x24\n",
    "  model.add(MaxPooling2D(pool_size=(2,2))) \n",
    "  model.add(Dropout(rate=dropout1))\n",
    "  model.add(Conv2D(filters=neuro2, kernel_size=(3,3), activation='relu')) #40x8x8\n",
    "  model.add(MaxPooling2D(pool_size=(2,2))) \n",
    "  model.add(Dropout(rate=dropout2))\n",
    "  model.add(Conv2D(filters=neuro3, kernel_size=(3,3), activation='relu')) #40x8x8\n",
    "  model.add(MaxPooling2D(pool_size=(2,2))) \n",
    "  model.add(Flatten())\n",
    "  model.add(Dense(units=neuro4, activation='relu'))\n",
    "  model.add(Dense(3, activation='softmax'))\n",
    "\n",
    "  hp_learning_rate = hp.Choice('learning_rate', values=[1e-2, 1e-3, 1e-4])\n",
    "\n",
    "  model.compile(optimizer=keras.optimizers.Adam(learning_rate=hp_learning_rate),\n",
    "                loss='sparse_categorical_crossentropy',\n",
    "                metrics=['accuracy'])\n",
    "\n",
    "  return model\n",
    "\n",
    "tuner = kt.Hyperband(model_builder,\n",
    "                     objective='val_accuracy',\n",
    "                     max_epochs=1000,\n",
    "                     factor=2,\n",
    "                     directory='my_dir',\n",
    "                     project_name='intro_to_kt')\n",
    "\n",
    "stop_early = tf.keras.callbacks.EarlyStopping(monitor='val_loss', patience=5)\n",
    "\n",
    "tuner.search(train_images, train_labels, epochs=1000, validation_split=0.2, callbacks=[stop_early])\n",
    "\n",
    "# Get the optimal hyperparameters\n",
    "best_hps=tuner.get_best_hyperparameters(num_trials=1)[0]\n",
    "\n",
    "print(f\"\"\"\n",
    "MELHORES PARAMETROS\n",
    "Primeiro Neuronio: {best_hps.get('units_1')}\n",
    "Segundo Neuronio: {best_hps.get('units_2')}\n",
    "Terceiro Neuronio: {best_hps.get('units_3')}\n",
    "Quarto Neuronio: {best_hps.get('units_4')}\n",
    "Primeiro Dropout: {best_hps.get('dropout_1')}\n",
    "Segundo Dropout: {best_hps.get('dropout_1')}\n",
    "Taxa de aprendizagem: {best_hps.get('learning_rate')}.\n",
    "\"\"\")"
   ]
  },
  {
   "cell_type": "code",
   "execution_count": 9,
   "metadata": {},
   "outputs": [
    {
     "name": "stdout",
     "output_type": "stream",
     "text": [
      "\n",
      "Search: Running Trial #1\n",
      "\n",
      "Value             |Best Value So Far |Hyperparameter\n",
      "512               |512               |units\n",
      "512               |512               |units1\n",
      "0                 |0                 |dropout_1\n",
      "0                 |0                 |dropout_2\n",
      "0.0001            |0.0001            |learning_rate\n",
      "2                 |2                 |tuner/epochs\n",
      "0                 |0                 |tuner/initial_epoch\n",
      "4                 |4                 |tuner/bracket\n",
      "0                 |0                 |tuner/round\n",
      "\n",
      "Epoch 1/2\n",
      "1/1 [==============================] - ETA: 0s - loss: 11.6667 - accuracy: 0.0000e+00"
     ]
    },
    {
     "ename": "KeyboardInterrupt",
     "evalue": "",
     "output_type": "error",
     "traceback": [
      "\u001b[1;31m---------------------------------------------------------------------------\u001b[0m",
      "\u001b[1;31mKeyboardInterrupt\u001b[0m                         Traceback (most recent call last)",
      "\u001b[1;32mc:\\Users\\gusta\\OneDrive\\Documentos\\GitHub\\CargoSecurity\\Rede Neural.ipynb Cell 10\u001b[0m line \u001b[0;36m3\n\u001b[0;32m     <a href='vscode-notebook-cell:/c%3A/Users/gusta/OneDrive/Documentos/GitHub/CargoSecurity/Rede%20Neural.ipynb#X12sZmlsZQ%3D%3D?line=24'>25</a>\u001b[0m tuner \u001b[39m=\u001b[39m kt\u001b[39m.\u001b[39mHyperband(model_builder,\n\u001b[0;32m     <a href='vscode-notebook-cell:/c%3A/Users/gusta/OneDrive/Documentos/GitHub/CargoSecurity/Rede%20Neural.ipynb#X12sZmlsZQ%3D%3D?line=25'>26</a>\u001b[0m                      objective\u001b[39m=\u001b[39m\u001b[39m'\u001b[39m\u001b[39mval_accuracy\u001b[39m\u001b[39m'\u001b[39m,\n\u001b[0;32m     <a href='vscode-notebook-cell:/c%3A/Users/gusta/OneDrive/Documentos/GitHub/CargoSecurity/Rede%20Neural.ipynb#X12sZmlsZQ%3D%3D?line=26'>27</a>\u001b[0m                      max_epochs\u001b[39m=\u001b[39m\u001b[39m100\u001b[39m,\n\u001b[0;32m     <a href='vscode-notebook-cell:/c%3A/Users/gusta/OneDrive/Documentos/GitHub/CargoSecurity/Rede%20Neural.ipynb#X12sZmlsZQ%3D%3D?line=27'>28</a>\u001b[0m                      factor\u001b[39m=\u001b[39m\u001b[39m3\u001b[39m,\n\u001b[0;32m     <a href='vscode-notebook-cell:/c%3A/Users/gusta/OneDrive/Documentos/GitHub/CargoSecurity/Rede%20Neural.ipynb#X12sZmlsZQ%3D%3D?line=28'>29</a>\u001b[0m                      directory\u001b[39m=\u001b[39m\u001b[39m'\u001b[39m\u001b[39mmy_dir\u001b[39m\u001b[39m'\u001b[39m,\n\u001b[0;32m     <a href='vscode-notebook-cell:/c%3A/Users/gusta/OneDrive/Documentos/GitHub/CargoSecurity/Rede%20Neural.ipynb#X12sZmlsZQ%3D%3D?line=29'>30</a>\u001b[0m                      project_name\u001b[39m=\u001b[39m\u001b[39m'\u001b[39m\u001b[39mintro_to_kt\u001b[39m\u001b[39m'\u001b[39m)\n\u001b[0;32m     <a href='vscode-notebook-cell:/c%3A/Users/gusta/OneDrive/Documentos/GitHub/CargoSecurity/Rede%20Neural.ipynb#X12sZmlsZQ%3D%3D?line=31'>32</a>\u001b[0m stop_early \u001b[39m=\u001b[39m tf\u001b[39m.\u001b[39mkeras\u001b[39m.\u001b[39mcallbacks\u001b[39m.\u001b[39mEarlyStopping(monitor\u001b[39m=\u001b[39m\u001b[39m'\u001b[39m\u001b[39mval_loss\u001b[39m\u001b[39m'\u001b[39m, patience\u001b[39m=\u001b[39m\u001b[39m5\u001b[39m)\n\u001b[1;32m---> <a href='vscode-notebook-cell:/c%3A/Users/gusta/OneDrive/Documentos/GitHub/CargoSecurity/Rede%20Neural.ipynb#X12sZmlsZQ%3D%3D?line=33'>34</a>\u001b[0m tuner\u001b[39m.\u001b[39;49msearch(entrada, saida, epochs\u001b[39m=\u001b[39;49m\u001b[39m2\u001b[39;49m, validation_split\u001b[39m=\u001b[39;49m\u001b[39m0.1\u001b[39;49m, callbacks\u001b[39m=\u001b[39;49m[stop_early])\n\u001b[0;32m     <a href='vscode-notebook-cell:/c%3A/Users/gusta/OneDrive/Documentos/GitHub/CargoSecurity/Rede%20Neural.ipynb#X12sZmlsZQ%3D%3D?line=35'>36</a>\u001b[0m \u001b[39m# Get the optimal hyperparameters\u001b[39;00m\n\u001b[0;32m     <a href='vscode-notebook-cell:/c%3A/Users/gusta/OneDrive/Documentos/GitHub/CargoSecurity/Rede%20Neural.ipynb#X12sZmlsZQ%3D%3D?line=36'>37</a>\u001b[0m best_hps\u001b[39m=\u001b[39mtuner\u001b[39m.\u001b[39mget_best_hyperparameters(num_trials\u001b[39m=\u001b[39m\u001b[39m1\u001b[39m)[\u001b[39m0\u001b[39m]\n",
      "File \u001b[1;32mc:\\Users\\gusta\\AppData\\Local\\Programs\\Python\\Python38\\lib\\site-packages\\keras_tuner\\engine\\base_tuner.py:230\u001b[0m, in \u001b[0;36mBaseTuner.search\u001b[1;34m(self, *fit_args, **fit_kwargs)\u001b[0m\n\u001b[0;32m    227\u001b[0m         \u001b[39mcontinue\u001b[39;00m\n\u001b[0;32m    229\u001b[0m     \u001b[39mself\u001b[39m\u001b[39m.\u001b[39mon_trial_begin(trial)\n\u001b[1;32m--> 230\u001b[0m     \u001b[39mself\u001b[39;49m\u001b[39m.\u001b[39;49m_try_run_and_update_trial(trial, \u001b[39m*\u001b[39;49mfit_args, \u001b[39m*\u001b[39;49m\u001b[39m*\u001b[39;49mfit_kwargs)\n\u001b[0;32m    231\u001b[0m     \u001b[39mself\u001b[39m\u001b[39m.\u001b[39mon_trial_end(trial)\n\u001b[0;32m    232\u001b[0m \u001b[39mself\u001b[39m\u001b[39m.\u001b[39mon_search_end()\n",
      "File \u001b[1;32mc:\\Users\\gusta\\AppData\\Local\\Programs\\Python\\Python38\\lib\\site-packages\\keras_tuner\\engine\\base_tuner.py:270\u001b[0m, in \u001b[0;36mBaseTuner._try_run_and_update_trial\u001b[1;34m(self, trial, *fit_args, **fit_kwargs)\u001b[0m\n\u001b[0;32m    268\u001b[0m \u001b[39mdef\u001b[39;00m \u001b[39m_try_run_and_update_trial\u001b[39m(\u001b[39mself\u001b[39m, trial, \u001b[39m*\u001b[39mfit_args, \u001b[39m*\u001b[39m\u001b[39m*\u001b[39mfit_kwargs):\n\u001b[0;32m    269\u001b[0m     \u001b[39mtry\u001b[39;00m:\n\u001b[1;32m--> 270\u001b[0m         \u001b[39mself\u001b[39;49m\u001b[39m.\u001b[39;49m_run_and_update_trial(trial, \u001b[39m*\u001b[39;49mfit_args, \u001b[39m*\u001b[39;49m\u001b[39m*\u001b[39;49mfit_kwargs)\n\u001b[0;32m    271\u001b[0m         trial\u001b[39m.\u001b[39mstatus \u001b[39m=\u001b[39m trial_module\u001b[39m.\u001b[39mTrialStatus\u001b[39m.\u001b[39mCOMPLETED\n\u001b[0;32m    272\u001b[0m         \u001b[39mreturn\u001b[39;00m\n",
      "File \u001b[1;32mc:\\Users\\gusta\\AppData\\Local\\Programs\\Python\\Python38\\lib\\site-packages\\keras_tuner\\engine\\base_tuner.py:235\u001b[0m, in \u001b[0;36mBaseTuner._run_and_update_trial\u001b[1;34m(self, trial, *fit_args, **fit_kwargs)\u001b[0m\n\u001b[0;32m    234\u001b[0m \u001b[39mdef\u001b[39;00m \u001b[39m_run_and_update_trial\u001b[39m(\u001b[39mself\u001b[39m, trial, \u001b[39m*\u001b[39mfit_args, \u001b[39m*\u001b[39m\u001b[39m*\u001b[39mfit_kwargs):\n\u001b[1;32m--> 235\u001b[0m     results \u001b[39m=\u001b[39m \u001b[39mself\u001b[39;49m\u001b[39m.\u001b[39;49mrun_trial(trial, \u001b[39m*\u001b[39;49mfit_args, \u001b[39m*\u001b[39;49m\u001b[39m*\u001b[39;49mfit_kwargs)\n\u001b[0;32m    236\u001b[0m     \u001b[39mif\u001b[39;00m \u001b[39mself\u001b[39m\u001b[39m.\u001b[39moracle\u001b[39m.\u001b[39mget_trial(trial\u001b[39m.\u001b[39mtrial_id)\u001b[39m.\u001b[39mmetrics\u001b[39m.\u001b[39mexists(\n\u001b[0;32m    237\u001b[0m         \u001b[39mself\u001b[39m\u001b[39m.\u001b[39moracle\u001b[39m.\u001b[39mobjective\u001b[39m.\u001b[39mname\n\u001b[0;32m    238\u001b[0m     ):\n\u001b[0;32m    239\u001b[0m         \u001b[39m# The oracle is updated by calling `self.oracle.update_trial()` in\u001b[39;00m\n\u001b[0;32m    240\u001b[0m         \u001b[39m# `Tuner.run_trial()`. For backward compatibility, we support this\u001b[39;00m\n\u001b[0;32m    241\u001b[0m         \u001b[39m# use case. No further action needed in this case.\u001b[39;00m\n\u001b[0;32m    242\u001b[0m         warnings\u001b[39m.\u001b[39mwarn(\n\u001b[0;32m    243\u001b[0m             \u001b[39m\"\u001b[39m\u001b[39mThe use case of calling \u001b[39m\u001b[39m\"\u001b[39m\n\u001b[0;32m    244\u001b[0m             \u001b[39m\"\u001b[39m\u001b[39m`self.oracle.update_trial(trial_id, metrics)` \u001b[39m\u001b[39m\"\u001b[39m\n\u001b[1;32m   (...)\u001b[0m\n\u001b[0;32m    250\u001b[0m             stacklevel\u001b[39m=\u001b[39m\u001b[39m2\u001b[39m,\n\u001b[0;32m    251\u001b[0m         )\n",
      "File \u001b[1;32mc:\\Users\\gusta\\AppData\\Local\\Programs\\Python\\Python38\\lib\\site-packages\\keras_tuner\\tuners\\hyperband.py:425\u001b[0m, in \u001b[0;36mHyperband.run_trial\u001b[1;34m(self, trial, *fit_args, **fit_kwargs)\u001b[0m\n\u001b[0;32m    423\u001b[0m     fit_kwargs[\u001b[39m\"\u001b[39m\u001b[39mepochs\u001b[39m\u001b[39m\"\u001b[39m] \u001b[39m=\u001b[39m hp\u001b[39m.\u001b[39mvalues[\u001b[39m\"\u001b[39m\u001b[39mtuner/epochs\u001b[39m\u001b[39m\"\u001b[39m]\n\u001b[0;32m    424\u001b[0m     fit_kwargs[\u001b[39m\"\u001b[39m\u001b[39minitial_epoch\u001b[39m\u001b[39m\"\u001b[39m] \u001b[39m=\u001b[39m hp\u001b[39m.\u001b[39mvalues[\u001b[39m\"\u001b[39m\u001b[39mtuner/initial_epoch\u001b[39m\u001b[39m\"\u001b[39m]\n\u001b[1;32m--> 425\u001b[0m \u001b[39mreturn\u001b[39;00m \u001b[39msuper\u001b[39;49m()\u001b[39m.\u001b[39;49mrun_trial(trial, \u001b[39m*\u001b[39;49mfit_args, \u001b[39m*\u001b[39;49m\u001b[39m*\u001b[39;49mfit_kwargs)\n",
      "File \u001b[1;32mc:\\Users\\gusta\\AppData\\Local\\Programs\\Python\\Python38\\lib\\site-packages\\keras_tuner\\engine\\tuner.py:287\u001b[0m, in \u001b[0;36mTuner.run_trial\u001b[1;34m(self, trial, *args, **kwargs)\u001b[0m\n\u001b[0;32m    285\u001b[0m     callbacks\u001b[39m.\u001b[39mappend(model_checkpoint)\n\u001b[0;32m    286\u001b[0m     copied_kwargs[\u001b[39m\"\u001b[39m\u001b[39mcallbacks\u001b[39m\u001b[39m\"\u001b[39m] \u001b[39m=\u001b[39m callbacks\n\u001b[1;32m--> 287\u001b[0m     obj_value \u001b[39m=\u001b[39m \u001b[39mself\u001b[39;49m\u001b[39m.\u001b[39;49m_build_and_fit_model(trial, \u001b[39m*\u001b[39;49margs, \u001b[39m*\u001b[39;49m\u001b[39m*\u001b[39;49mcopied_kwargs)\n\u001b[0;32m    289\u001b[0m     histories\u001b[39m.\u001b[39mappend(obj_value)\n\u001b[0;32m    290\u001b[0m \u001b[39mreturn\u001b[39;00m histories\n",
      "File \u001b[1;32mc:\\Users\\gusta\\AppData\\Local\\Programs\\Python\\Python38\\lib\\site-packages\\keras_tuner\\engine\\tuner.py:214\u001b[0m, in \u001b[0;36mTuner._build_and_fit_model\u001b[1;34m(self, trial, *args, **kwargs)\u001b[0m\n\u001b[0;32m    212\u001b[0m hp \u001b[39m=\u001b[39m trial\u001b[39m.\u001b[39mhyperparameters\n\u001b[0;32m    213\u001b[0m model \u001b[39m=\u001b[39m \u001b[39mself\u001b[39m\u001b[39m.\u001b[39m_try_build(hp)\n\u001b[1;32m--> 214\u001b[0m results \u001b[39m=\u001b[39m \u001b[39mself\u001b[39;49m\u001b[39m.\u001b[39;49mhypermodel\u001b[39m.\u001b[39;49mfit(hp, model, \u001b[39m*\u001b[39;49margs, \u001b[39m*\u001b[39;49m\u001b[39m*\u001b[39;49mkwargs)\n\u001b[0;32m    215\u001b[0m tuner_utils\u001b[39m.\u001b[39mvalidate_trial_results(\n\u001b[0;32m    216\u001b[0m     results, \u001b[39mself\u001b[39m\u001b[39m.\u001b[39moracle\u001b[39m.\u001b[39mobjective, \u001b[39m\"\u001b[39m\u001b[39mHyperModel.fit()\u001b[39m\u001b[39m\"\u001b[39m\n\u001b[0;32m    217\u001b[0m )\n\u001b[0;32m    218\u001b[0m \u001b[39mreturn\u001b[39;00m results\n",
      "File \u001b[1;32mc:\\Users\\gusta\\AppData\\Local\\Programs\\Python\\Python38\\lib\\site-packages\\keras_tuner\\engine\\hypermodel.py:144\u001b[0m, in \u001b[0;36mHyperModel.fit\u001b[1;34m(self, hp, model, *args, **kwargs)\u001b[0m\n\u001b[0;32m    120\u001b[0m \u001b[39mdef\u001b[39;00m \u001b[39mfit\u001b[39m(\u001b[39mself\u001b[39m, hp, model, \u001b[39m*\u001b[39margs, \u001b[39m*\u001b[39m\u001b[39m*\u001b[39mkwargs):\n\u001b[0;32m    121\u001b[0m \u001b[39m    \u001b[39m\u001b[39m\"\"\"Train the model.\u001b[39;00m\n\u001b[0;32m    122\u001b[0m \n\u001b[0;32m    123\u001b[0m \u001b[39m    Args:\u001b[39;00m\n\u001b[1;32m   (...)\u001b[0m\n\u001b[0;32m    142\u001b[0m \u001b[39m        If return a float, it should be the `objective` value.\u001b[39;00m\n\u001b[0;32m    143\u001b[0m \u001b[39m    \"\"\"\u001b[39;00m\n\u001b[1;32m--> 144\u001b[0m     \u001b[39mreturn\u001b[39;00m model\u001b[39m.\u001b[39;49mfit(\u001b[39m*\u001b[39;49margs, \u001b[39m*\u001b[39;49m\u001b[39m*\u001b[39;49mkwargs)\n",
      "File \u001b[1;32mc:\\Users\\gusta\\AppData\\Local\\Programs\\Python\\Python38\\lib\\site-packages\\keras\\utils\\traceback_utils.py:65\u001b[0m, in \u001b[0;36mfilter_traceback.<locals>.error_handler\u001b[1;34m(*args, **kwargs)\u001b[0m\n\u001b[0;32m     63\u001b[0m filtered_tb \u001b[39m=\u001b[39m \u001b[39mNone\u001b[39;00m\n\u001b[0;32m     64\u001b[0m \u001b[39mtry\u001b[39;00m:\n\u001b[1;32m---> 65\u001b[0m     \u001b[39mreturn\u001b[39;00m fn(\u001b[39m*\u001b[39;49margs, \u001b[39m*\u001b[39;49m\u001b[39m*\u001b[39;49mkwargs)\n\u001b[0;32m     66\u001b[0m \u001b[39mexcept\u001b[39;00m \u001b[39mException\u001b[39;00m \u001b[39mas\u001b[39;00m e:\n\u001b[0;32m     67\u001b[0m     filtered_tb \u001b[39m=\u001b[39m _process_traceback_frames(e\u001b[39m.\u001b[39m__traceback__)\n",
      "File \u001b[1;32mc:\\Users\\gusta\\AppData\\Local\\Programs\\Python\\Python38\\lib\\site-packages\\keras\\engine\\training.py:1747\u001b[0m, in \u001b[0;36mModel.fit\u001b[1;34m(self, x, y, batch_size, epochs, verbose, callbacks, validation_split, validation_data, shuffle, class_weight, sample_weight, initial_epoch, steps_per_epoch, validation_steps, validation_batch_size, validation_freq, max_queue_size, workers, use_multiprocessing)\u001b[0m\n\u001b[0;32m   1742\u001b[0m     val_logs \u001b[39m=\u001b[39m {\n\u001b[0;32m   1743\u001b[0m         \u001b[39m\"\u001b[39m\u001b[39mval_\u001b[39m\u001b[39m\"\u001b[39m \u001b[39m+\u001b[39m name: val \u001b[39mfor\u001b[39;00m name, val \u001b[39min\u001b[39;00m val_logs\u001b[39m.\u001b[39mitems()\n\u001b[0;32m   1744\u001b[0m     }\n\u001b[0;32m   1745\u001b[0m     epoch_logs\u001b[39m.\u001b[39mupdate(val_logs)\n\u001b[1;32m-> 1747\u001b[0m callbacks\u001b[39m.\u001b[39;49mon_epoch_end(epoch, epoch_logs)\n\u001b[0;32m   1748\u001b[0m training_logs \u001b[39m=\u001b[39m epoch_logs\n\u001b[0;32m   1749\u001b[0m \u001b[39mif\u001b[39;00m \u001b[39mself\u001b[39m\u001b[39m.\u001b[39mstop_training:\n",
      "File \u001b[1;32mc:\\Users\\gusta\\AppData\\Local\\Programs\\Python\\Python38\\lib\\site-packages\\keras\\callbacks.py:453\u001b[0m, in \u001b[0;36mCallbackList.on_epoch_end\u001b[1;34m(self, epoch, logs)\u001b[0m\n\u001b[0;32m    451\u001b[0m logs \u001b[39m=\u001b[39m \u001b[39mself\u001b[39m\u001b[39m.\u001b[39m_process_logs(logs)\n\u001b[0;32m    452\u001b[0m \u001b[39mfor\u001b[39;00m callback \u001b[39min\u001b[39;00m \u001b[39mself\u001b[39m\u001b[39m.\u001b[39mcallbacks:\n\u001b[1;32m--> 453\u001b[0m     callback\u001b[39m.\u001b[39;49mon_epoch_end(epoch, logs)\n",
      "File \u001b[1;32mc:\\Users\\gusta\\AppData\\Local\\Programs\\Python\\Python38\\lib\\site-packages\\keras_tuner\\engine\\tuner_utils.py:172\u001b[0m, in \u001b[0;36mSaveBestEpoch.on_epoch_end\u001b[1;34m(self, epoch, logs)\u001b[0m\n\u001b[0;32m    170\u001b[0m \u001b[39mif\u001b[39;00m \u001b[39mself\u001b[39m\u001b[39m.\u001b[39mobjective\u001b[39m.\u001b[39mbetter_than(current_value, \u001b[39mself\u001b[39m\u001b[39m.\u001b[39mbest_value):\n\u001b[0;32m    171\u001b[0m     \u001b[39mself\u001b[39m\u001b[39m.\u001b[39mbest_value \u001b[39m=\u001b[39m current_value\n\u001b[1;32m--> 172\u001b[0m     \u001b[39mself\u001b[39;49m\u001b[39m.\u001b[39;49m_save_model()\n",
      "File \u001b[1;32mc:\\Users\\gusta\\AppData\\Local\\Programs\\Python\\Python38\\lib\\site-packages\\keras_tuner\\engine\\tuner_utils.py:179\u001b[0m, in \u001b[0;36mSaveBestEpoch._save_model\u001b[1;34m(self)\u001b[0m\n\u001b[0;32m    174\u001b[0m \u001b[39mdef\u001b[39;00m \u001b[39m_save_model\u001b[39m(\u001b[39mself\u001b[39m):\n\u001b[0;32m    175\u001b[0m     \u001b[39m# Create temporary saved model files on non-chief workers.\u001b[39;00m\n\u001b[0;32m    176\u001b[0m     write_filepath \u001b[39m=\u001b[39m file_utils\u001b[39m.\u001b[39mwrite_filepath(\n\u001b[0;32m    177\u001b[0m         \u001b[39mself\u001b[39m\u001b[39m.\u001b[39mfilepath, \u001b[39mself\u001b[39m\u001b[39m.\u001b[39mmodel\u001b[39m.\u001b[39mdistribute_strategy\n\u001b[0;32m    178\u001b[0m     )\n\u001b[1;32m--> 179\u001b[0m     \u001b[39mself\u001b[39;49m\u001b[39m.\u001b[39;49mmodel\u001b[39m.\u001b[39;49msave_weights(write_filepath)\n\u001b[0;32m    180\u001b[0m     \u001b[39m# Remove temporary saved model files on non-chief workers.\u001b[39;00m\n\u001b[0;32m    181\u001b[0m     file_utils\u001b[39m.\u001b[39mremove_temp_dir_with_filepath(\n\u001b[0;32m    182\u001b[0m         write_filepath, \u001b[39mself\u001b[39m\u001b[39m.\u001b[39mmodel\u001b[39m.\u001b[39mdistribute_strategy\n\u001b[0;32m    183\u001b[0m     )\n",
      "File \u001b[1;32mc:\\Users\\gusta\\AppData\\Local\\Programs\\Python\\Python38\\lib\\site-packages\\keras\\utils\\traceback_utils.py:65\u001b[0m, in \u001b[0;36mfilter_traceback.<locals>.error_handler\u001b[1;34m(*args, **kwargs)\u001b[0m\n\u001b[0;32m     63\u001b[0m filtered_tb \u001b[39m=\u001b[39m \u001b[39mNone\u001b[39;00m\n\u001b[0;32m     64\u001b[0m \u001b[39mtry\u001b[39;00m:\n\u001b[1;32m---> 65\u001b[0m     \u001b[39mreturn\u001b[39;00m fn(\u001b[39m*\u001b[39;49margs, \u001b[39m*\u001b[39;49m\u001b[39m*\u001b[39;49mkwargs)\n\u001b[0;32m     66\u001b[0m \u001b[39mexcept\u001b[39;00m \u001b[39mException\u001b[39;00m \u001b[39mas\u001b[39;00m e:\n\u001b[0;32m     67\u001b[0m     filtered_tb \u001b[39m=\u001b[39m _process_traceback_frames(e\u001b[39m.\u001b[39m__traceback__)\n",
      "File \u001b[1;32mc:\\Users\\gusta\\AppData\\Local\\Programs\\Python\\Python38\\lib\\site-packages\\keras\\engine\\training.py:2898\u001b[0m, in \u001b[0;36mModel.save_weights\u001b[1;34m(self, filepath, overwrite, save_format, options)\u001b[0m\n\u001b[0;32m   2834\u001b[0m \u001b[39m@traceback_utils\u001b[39m\u001b[39m.\u001b[39mfilter_traceback\n\u001b[0;32m   2835\u001b[0m \u001b[39mdef\u001b[39;00m \u001b[39msave_weights\u001b[39m(\n\u001b[0;32m   2836\u001b[0m     \u001b[39mself\u001b[39m, filepath, overwrite\u001b[39m=\u001b[39m\u001b[39mTrue\u001b[39;00m, save_format\u001b[39m=\u001b[39m\u001b[39mNone\u001b[39;00m, options\u001b[39m=\u001b[39m\u001b[39mNone\u001b[39;00m\n\u001b[0;32m   2837\u001b[0m ):\n\u001b[0;32m   2838\u001b[0m \u001b[39m    \u001b[39m\u001b[39m\"\"\"Saves all layer weights.\u001b[39;00m\n\u001b[0;32m   2839\u001b[0m \n\u001b[0;32m   2840\u001b[0m \u001b[39m    Either saves in HDF5 or in TensorFlow format based on the `save_format`\u001b[39;00m\n\u001b[1;32m   (...)\u001b[0m\n\u001b[0;32m   2896\u001b[0m \u001b[39m            HDF5 format.\u001b[39;00m\n\u001b[0;32m   2897\u001b[0m \u001b[39m    \"\"\"\u001b[39;00m\n\u001b[1;32m-> 2898\u001b[0m     saving_api\u001b[39m.\u001b[39;49msave_weights(\n\u001b[0;32m   2899\u001b[0m         \u001b[39mself\u001b[39;49m,\n\u001b[0;32m   2900\u001b[0m         filepath\u001b[39m=\u001b[39;49mfilepath,\n\u001b[0;32m   2901\u001b[0m         overwrite\u001b[39m=\u001b[39;49moverwrite,\n\u001b[0;32m   2902\u001b[0m         save_format\u001b[39m=\u001b[39;49msave_format,\n\u001b[0;32m   2903\u001b[0m         options\u001b[39m=\u001b[39;49moptions,\n\u001b[0;32m   2904\u001b[0m     )\n",
      "File \u001b[1;32mc:\\Users\\gusta\\AppData\\Local\\Programs\\Python\\Python38\\lib\\site-packages\\keras\\saving\\saving_api.py:230\u001b[0m, in \u001b[0;36msave_weights\u001b[1;34m(model, filepath, overwrite, **kwargs)\u001b[0m\n\u001b[0;32m    228\u001b[0m     saving_lib\u001b[39m.\u001b[39msave_weights_only(model, filepath)\n\u001b[0;32m    229\u001b[0m \u001b[39melse\u001b[39;00m:\n\u001b[1;32m--> 230\u001b[0m     legacy_sm_saving_lib\u001b[39m.\u001b[39;49msave_weights(\n\u001b[0;32m    231\u001b[0m         model, filepath, overwrite\u001b[39m=\u001b[39;49moverwrite, \u001b[39m*\u001b[39;49m\u001b[39m*\u001b[39;49mkwargs\n\u001b[0;32m    232\u001b[0m     )\n",
      "File \u001b[1;32mc:\\Users\\gusta\\AppData\\Local\\Programs\\Python\\Python38\\lib\\site-packages\\keras\\saving\\legacy\\save.py:371\u001b[0m, in \u001b[0;36msave_weights\u001b[1;34m(model, filepath, overwrite, save_format, options)\u001b[0m\n\u001b[0;32m    368\u001b[0m \u001b[39mif\u001b[39;00m \u001b[39mnot\u001b[39;00m tf\u001b[39m.\u001b[39mexecuting_eagerly():\n\u001b[0;32m    369\u001b[0m     \u001b[39m# Call `get_session` to initialize any uninitialized variables.\u001b[39;00m\n\u001b[0;32m    370\u001b[0m     backend\u001b[39m.\u001b[39mget_session()\n\u001b[1;32m--> 371\u001b[0m model\u001b[39m.\u001b[39;49m_checkpoint\u001b[39m.\u001b[39;49mwrite(filepath, options\u001b[39m=\u001b[39;49moptions)\n\u001b[0;32m    373\u001b[0m \u001b[39m# Record this checkpoint so it's visible from\u001b[39;00m\n\u001b[0;32m    374\u001b[0m \u001b[39m# tf.train.latest_checkpoint.\u001b[39;00m\n\u001b[0;32m    375\u001b[0m tf\u001b[39m.\u001b[39m__internal__\u001b[39m.\u001b[39mtrain\u001b[39m.\u001b[39mupdate_checkpoint_state(\n\u001b[0;32m    376\u001b[0m     save_dir\u001b[39m=\u001b[39mos\u001b[39m.\u001b[39mpath\u001b[39m.\u001b[39mdirname(filepath),\n\u001b[0;32m    377\u001b[0m     model_checkpoint_path\u001b[39m=\u001b[39mfilepath,\n\u001b[0;32m    378\u001b[0m     save_relative_paths\u001b[39m=\u001b[39m\u001b[39mTrue\u001b[39;00m,\n\u001b[0;32m    379\u001b[0m     all_model_checkpoint_paths\u001b[39m=\u001b[39m[filepath],\n\u001b[0;32m    380\u001b[0m )\n",
      "File \u001b[1;32mc:\\Users\\gusta\\AppData\\Local\\Programs\\Python\\Python38\\lib\\site-packages\\tensorflow\\python\\checkpoint\\checkpoint.py:2256\u001b[0m, in \u001b[0;36mCheckpoint.write\u001b[1;34m(self, file_prefix, options)\u001b[0m\n\u001b[0;32m   2254\u001b[0m \u001b[39mif\u001b[39;00m \u001b[39misinstance\u001b[39m(file_prefix, os\u001b[39m.\u001b[39mPathLike):\n\u001b[0;32m   2255\u001b[0m   file_prefix \u001b[39m=\u001b[39m os\u001b[39m.\u001b[39mfspath(file_prefix)\n\u001b[1;32m-> 2256\u001b[0m \u001b[39mreturn\u001b[39;00m \u001b[39mself\u001b[39;49m\u001b[39m.\u001b[39;49m_write(file_prefix, options)\n",
      "File \u001b[1;32mc:\\Users\\gusta\\AppData\\Local\\Programs\\Python\\Python38\\lib\\site-packages\\tensorflow\\python\\checkpoint\\checkpoint.py:2317\u001b[0m, in \u001b[0;36mCheckpoint._write\u001b[1;34m(self, file_prefix, options, write_done_callback)\u001b[0m\n\u001b[0;32m   2310\u001b[0m   metrics\u001b[39m.\u001b[39mAddTrainingTimeSaved(\n\u001b[0;32m   2311\u001b[0m       api_label\u001b[39m=\u001b[39m_CHECKPOINT_V2,\n\u001b[0;32m   2312\u001b[0m       microseconds\u001b[39m=\u001b[39m_get_duration_microseconds(_END_TIME_OF_LAST_WRITE,\n\u001b[0;32m   2313\u001b[0m                                               end_time))\n\u001b[0;32m   2314\u001b[0m   _END_TIME_OF_LAST_WRITE \u001b[39m=\u001b[39m end_time\n\u001b[0;32m   2316\u001b[0m metrics\u001b[39m.\u001b[39mRecordCheckpointSize(\n\u001b[1;32m-> 2317\u001b[0m     api_label\u001b[39m=\u001b[39m_CHECKPOINT_V2, filesize\u001b[39m=\u001b[39m_get_checkpoint_size(output))\n\u001b[0;32m   2318\u001b[0m \u001b[39mreturn\u001b[39;00m output\n",
      "File \u001b[1;32mc:\\Users\\gusta\\AppData\\Local\\Programs\\Python\\Python38\\lib\\site-packages\\tensorflow\\python\\checkpoint\\checkpoint.py:118\u001b[0m, in \u001b[0;36m_get_checkpoint_size\u001b[1;34m(prefix)\u001b[0m\n\u001b[0;32m    115\u001b[0m files \u001b[39m=\u001b[39m glob\u001b[39m.\u001b[39mglob(\u001b[39m\"\u001b[39m\u001b[39m{}\u001b[39;00m\u001b[39m*\u001b[39m\u001b[39m\"\u001b[39m\u001b[39m.\u001b[39mformat(prefix))\n\u001b[0;32m    116\u001b[0m \u001b[39mfor\u001b[39;00m file \u001b[39min\u001b[39;00m files:\n\u001b[0;32m    117\u001b[0m   \u001b[39m# Use TensorFlow's C++ FileSystem API.\u001b[39;00m\n\u001b[1;32m--> 118\u001b[0m   size \u001b[39m+\u001b[39m\u001b[39m=\u001b[39m metrics\u001b[39m.\u001b[39mCalculateFileSize(file)\n\u001b[0;32m    119\u001b[0m \u001b[39mreturn\u001b[39;00m size\n",
      "\u001b[1;31mKeyboardInterrupt\u001b[0m: "
     ]
    }
   ],
   "source": [
    "entrada = np.asarray([1,2,3,4])\n",
    "saida = np.asarray([[2],[4],[6],[8]])\n",
    "\n",
    "def model_builder(hp):\n",
    "  hp_units = hp.Int('units', min_value=32, max_value=512, step=32)\n",
    "  hp_units1 = hp.Int('units1', min_value=32, max_value=512, step=32)\n",
    "  drop1 = hp.Float('dropout_1', min_value=0.0, max_value=0.5, step=0.1)\n",
    "  drop2 = hp.Float('dropout_2', min_value=0.0, max_value=0.5, step=0.1)\n",
    "\n",
    "  model = Sequential() # 28x28\n",
    "  model.add(Dense(units=hp_units1,input_shape=[1]))\n",
    "  model.add(Dropout(rate=drop1))\n",
    "  model.add(Dense(units=hp_units, activation='relu'))\n",
    "  model.add(Dropout(rate=drop2))\n",
    "  model.add(Dense(1, activation='softmax'))\n",
    "\n",
    "  hp_learning_rate = hp.Choice('learning_rate', values=[1e-2, 1e-3, 1e-4])\n",
    "\n",
    "  model.compile(optimizer=keras.optimizers.Adam(learning_rate=hp_learning_rate),\n",
    "                loss='mse',\n",
    "                metrics=['accuracy'])\n",
    "\n",
    "  return model\n",
    "\n",
    "tuner = kt.Hyperband(model_builder,\n",
    "                     objective='val_accuracy',\n",
    "                     max_epochs=100,\n",
    "                     factor=3,\n",
    "                     directory='my_dir',\n",
    "                     project_name='intro_to_kt')\n",
    "\n",
    "stop_early = tf.keras.callbacks.EarlyStopping(monitor='val_loss', patience=5)\n",
    "\n",
    "tuner.search(entrada, saida, epochs=2, validation_split=0.1, callbacks=[stop_early])\n",
    "\n",
    "# Get the optimal hyperparameters\n",
    "best_hps=tuner.get_best_hyperparameters(num_trials=1)[0]\n",
    "\n",
    "print(f\"\"\"\n",
    "Primeiro Neuronio {best_hps.get('units')} \n",
    "Segundo Neuronio {best_hps.get('units1')}\n",
    "Primeiro drop {best_hps.get('dropout_1')} \n",
    "Segundo drop {best_hps.get('dropout_2')}\n",
    "Taxa de aprendizagem {best_hps.get('learning_rate')}.\n",
    "\"\"\")"
   ]
  },
  {
   "cell_type": "code",
   "execution_count": 8,
   "metadata": {},
   "outputs": [
    {
     "name": "stdout",
     "output_type": "stream",
     "text": [
      "1/1 [==============================] - 0s 157ms/step - loss: 11.3714 - accuracy: 0.4286\n",
      "42.85714328289032\n"
     ]
    }
   ],
   "source": [
    "test_loss, test_acc = model.evaluate(test_images, test_labels)\n",
    "acerto = str(test_acc*100)\n",
    "print(acerto)\n"
   ]
  },
  {
   "cell_type": "code",
   "execution_count": 9,
   "metadata": {},
   "outputs": [
    {
     "name": "stdout",
     "output_type": "stream",
     "text": [
      "1/1 [==============================] - 0s 117ms/step\n",
      "[0, 0, 0, 0, 0, 0, 0]\n",
      "[1, 0, 0, 0, 2, 2, 2]\n"
     ]
    }
   ],
   "source": [
    "a = model.predict(test_images)\n",
    "result = []\n",
    "for x in a:\n",
    "    x = x.tolist()\n",
    "    result.append(x.index(max(x)))\n",
    "print(result)\n",
    "print(test_labels.tolist())"
   ]
  },
  {
   "cell_type": "code",
   "execution_count": 24,
   "metadata": {},
   "outputs": [
    {
     "name": "stdout",
     "output_type": "stream",
     "text": [
      "Carregado (1).jpeg redimensionado com sucesso!\n",
      "Carregado (1).jpg redimensionado com sucesso!\n",
      "Carregado (1).png redimensionado com sucesso!\n",
      "Leve (1).jpeg redimensionado com sucesso!\n",
      "Leve (1).jpg redimensionado com sucesso!\n",
      "Leve (1).png redimensionado com sucesso!\n",
      "Leve (2).jpeg redimensionado com sucesso!\n",
      "Leve (2).jpg redimensionado com sucesso!\n",
      "Leve (2).png redimensionado com sucesso!\n",
      "Leve (3).jpeg redimensionado com sucesso!\n",
      "sobrecarregado005.png redimensionado com sucesso!\n",
      "sobrecarregado006.png redimensionado com sucesso!\n",
      "sobrecarregado007.png redimensionado com sucesso!\n"
     ]
    }
   ],
   "source": [
    "from PIL import Image\n",
    "import os\n",
    "\n",
    "# Pasta de entrada contendo as imagens originais\n",
    "pasta_de_entrada = r'C:\\Users\\labin\\OneDrive\\Documentos\\GitHub\\Constru-o-da-Rede-Neural\\teste'\n",
    "\n",
    "# Pasta de saída onde as imagens redimensionadas serão salvas\n",
    "pasta_de_saida = r'C:\\Users\\labin\\OneDrive\\Documentos\\GitHub\\Constru-o-da-Rede-Neural\\aa'\n",
    "\n",
    "# Tamanho desejado das imagens (300x300)\n",
    "novo_tamanho = (300, 300)\n",
    "\n",
    "# Certifique-se de que a pasta de saída exista ou crie-a\n",
    "if not os.path.exists(pasta_de_saida):\n",
    "    os.makedirs(pasta_de_saida)\n",
    "\n",
    "# Lista todos os arquivos na pasta de entrada\n",
    "arquivos = os.listdir(pasta_de_entrada)\n",
    "\n",
    "for arquivo in arquivos:\n",
    "    try:\n",
    "        # Abre a imagem original\n",
    "        imagem = Image.open(os.path.join(pasta_de_entrada, arquivo))\n",
    "        \n",
    "        # Redimensiona a imagem para o tamanho desejado\n",
    "        imagem_redimensionada = imagem.resize(novo_tamanho)\n",
    "        \n",
    "        # Salva a imagem redimensionada na pasta de saída\n",
    "        imagem_redimensionada.save(os.path.join(pasta_de_saida, arquivo))\n",
    "        \n",
    "        print(f'{arquivo} redimensionado com sucesso!')\n",
    "    except Exception as e:\n",
    "        print(f'Erro ao redimensionar {arquivo}: {str(e)}')\n"
   ]
  },
  {
   "cell_type": "code",
   "execution_count": 25,
   "metadata": {},
   "outputs": [
    {
     "name": "stdout",
     "output_type": "stream",
     "text": [
      "Carregado (1).jpeg convertido para PNG com sucesso!\n",
      "Carregado (1).jpg convertido para PNG com sucesso!\n",
      "Carregado (1).png convertido para PNG com sucesso!\n",
      "Leve (1).jpeg convertido para PNG com sucesso!\n",
      "Leve (1).jpg convertido para PNG com sucesso!\n",
      "Leve (1).png convertido para PNG com sucesso!\n",
      "Leve (2).jpeg convertido para PNG com sucesso!\n",
      "Leve (2).jpg convertido para PNG com sucesso!\n",
      "Leve (2).png convertido para PNG com sucesso!\n",
      "Leve (3).jpeg convertido para PNG com sucesso!\n",
      "sobrecarregado005.png convertido para PNG com sucesso!\n",
      "sobrecarregado006.png convertido para PNG com sucesso!\n",
      "sobrecarregado007.png convertido para PNG com sucesso!\n"
     ]
    }
   ],
   "source": [
    "from PIL import Image\n",
    "import os\n",
    "\n",
    "pasta_de_entrada = r'C:\\Users\\labin\\OneDrive\\Documentos\\GitHub\\Constru-o-da-Rede-Neural\\teste'\n",
    "\n",
    "# Pasta de saída onde as imagens redimensionadas serão salvas\n",
    "pasta_de_saida = r'C:\\Users\\labin\\OneDrive\\Documentos\\GitHub\\Constru-o-da-Rede-Neural\\aa'\n",
    "\n",
    "# Certifique-se de que a pasta de saída exista ou crie-a\n",
    "if not os.path.exists(pasta_de_saida):\n",
    "    os.makedirs(pasta_de_saida)\n",
    "\n",
    "# Lista todos os arquivos na pasta de entrada\n",
    "arquivos = os.listdir(pasta_de_entrada)\n",
    "\n",
    "for arquivo in arquivos:\n",
    "    try:\n",
    "        # Abre a imagem original\n",
    "        imagem = Image.open(os.path.join(pasta_de_entrada, arquivo))\n",
    "        \n",
    "        # Define o formato de saída como PNG\n",
    "        imagem.save(os.path.join(pasta_de_saida, f'{os.path.splitext(arquivo)[0]}.png'), 'PNG')\n",
    "        \n",
    "        print(f'{arquivo} convertido para PNG com sucesso!')\n",
    "    except Exception as e:\n",
    "        print(f'Erro ao converter {arquivo} para PNG: {str(e)}')\n"
   ]
  }
 ],
 "metadata": {
  "kernelspec": {
   "display_name": "Python 3",
   "language": "python",
   "name": "python3"
  },
  "language_info": {
   "codemirror_mode": {
    "name": "ipython",
    "version": 3
   },
   "file_extension": ".py",
   "mimetype": "text/x-python",
   "name": "python",
   "nbconvert_exporter": "python",
   "pygments_lexer": "ipython3",
   "version": "3.8.0"
  },
  "orig_nbformat": 4
 },
 "nbformat": 4,
 "nbformat_minor": 2
}
